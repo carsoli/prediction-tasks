{
 "cells": [
  {
   "cell_type": "markdown",
   "metadata": {},
   "source": [
    "## Imports"
   ]
  },
  {
   "cell_type": "code",
   "execution_count": 1,
   "metadata": {
    "scrolled": false
   },
   "outputs": [
    {
     "name": "stderr",
     "output_type": "stream",
     "text": [
      "/home/carol/anaconda3/lib/python3.6/site-packages/sklearn/cross_validation.py:41: DeprecationWarning: This module was deprecated in version 0.18 in favor of the model_selection module into which all the refactored classes and functions are moved. Also note that the interface of the new CV iterators are different from that of this module. This module will be removed in 0.20.\n",
      "  \"This module will be removed in 0.20.\", DeprecationWarning)\n"
     ]
    }
   ],
   "source": [
    "import numpy as np\n",
    "import pandas as pd\n",
    "\n",
    "from sklearn.model_selection import train_test_split, GridSearchCV, validation_curve\n",
    "from sklearn.neural_network import MLPRegressor, MLPClassifier\n",
    "from sklearn.cross_validation import cross_val_score\n",
    "from sklearn.feature_extraction.text import TfidfTransformer, TfidfVectorizer\n",
    "from sklearn.metrics import confusion_matrix, accuracy_score\n",
    "\n",
    "import matplotlib.pyplot as plt\n",
    "from scipy.sparse import hstack\n",
    "import itertools\n",
    "import math\n",
    "import re\n",
    "from nltk.stem.porter import PorterStemmer\n",
    "\n",
    "%matplotlib inline"
   ]
  },
  {
   "cell_type": "markdown",
   "metadata": {},
   "source": [
    "## Functions"
   ]
  },
  {
   "cell_type": "code",
   "execution_count": 2,
   "metadata": {},
   "outputs": [],
   "source": [
    "#bonus\n",
    "porter_stemmer=PorterStemmer()\n",
    "def stemming_tokenizer(str_input):\n",
    "    words = re.sub(r\"[^A-Za-z0-9\\-]\", \" \", str_input).lower().split()\n",
    "    words = [porter_stemmer.stem(word) for word in words]\n",
    "    return words"
   ]
  },
  {
   "cell_type": "code",
   "execution_count": 3,
   "metadata": {},
   "outputs": [],
   "source": [
    "#filters dataframe's columns according to their correlation with the passed predicate\n",
    "def correlation_filter(dataframe, target, predicate):\n",
    "    correlation_mat = np.array(dataframe.corr().abs())\n",
    "    new_dataframe = None\n",
    "    target_column_idx = dataframe.columns.get_loc(target)\n",
    "    \n",
    "    columns_to_drop = []\n",
    "    for column in dataframe.columns:\n",
    "        column_idx = dataframe.columns.get_loc(column)\n",
    "        if (not predicate(correlation_mat[target_column_idx][column_idx])) and not (column_idx == target_column_idx) :\n",
    "            columns_to_drop.append(column)\n",
    "            \n",
    "    new_dataframe = dataframe.drop(columns=columns_to_drop)\n",
    "            \n",
    "    return new_dataframe"
   ]
  },
  {
   "cell_type": "code",
   "execution_count": 4,
   "metadata": {},
   "outputs": [],
   "source": [
    "def train_test_val_split(ds, train_size=0.8):\n",
    "    return train_test_split(ds, train_size=train_size, random_state=1)"
   ]
  },
  {
   "cell_type": "code",
   "execution_count": 5,
   "metadata": {},
   "outputs": [],
   "source": [
    "def normalize_ds(ds):\n",
    "    return (ds-ds.mean()) / ds.std()"
   ]
  },
  {
   "cell_type": "code",
   "execution_count": 6,
   "metadata": {},
   "outputs": [],
   "source": [
    "#task 1-2\n",
    "def gen_model_regressor(verbose=False, shape=(100,), iterations=200, optimizer='sgd', alpha=0.0001, \n",
    "                        learning_rate_type='constant', learning_rate_val=0.01, early_stopping=False, \n",
    "                        activation_function='logistic'):\n",
    "    model = MLPRegressor(verbose=verbose, hidden_layer_sizes=shape, max_iter=iterations, solver=optimizer, learning_rate_init=learning_rate_val, learning_rate=learning_rate_type, early_stopping=early_stopping, activation=activation_function)\n",
    "    return model"
   ]
  },
  {
   "cell_type": "code",
   "execution_count": 7,
   "metadata": {},
   "outputs": [],
   "source": [
    "#task 3\n",
    "def gen_model_classifier(verbose=False, shape=(100,), iterations=200, optimizer='sgd', alpha=0.0001, \n",
    "                         learning_rate_type='constant', learning_rate_val=0.01, early_stopping=False, \n",
    "                         activation_function='logistic'):\n",
    "    model = MLPClassifier(verbose=verbose, hidden_layer_sizes=shape, max_iter=iterations, \n",
    "                          solver=optimizer, learning_rate_init=learning_rate_val, \n",
    "                          learning_rate=learning_rate_type, early_stopping=early_stopping, \n",
    "                          activation=activation_function)\n",
    "    return model"
   ]
  },
  {
   "cell_type": "code",
   "execution_count": 8,
   "metadata": {},
   "outputs": [],
   "source": [
    "def gen_denormalizer(mean, std_dev):\n",
    "    return lambda val: (val * std_dev) + mean"
   ]
  },
  {
   "cell_type": "code",
   "execution_count": 9,
   "metadata": {},
   "outputs": [],
   "source": [
    "def plot_linear_func(slope, y_intercept, min_x, max_x, color_and_shape):\n",
    "    return plt.plot([min_x, max_x], [min_x*slope+y_intercept, max_x*slope+y_intercept], color_and_shape)"
   ]
  },
  {
   "cell_type": "code",
   "execution_count": 10,
   "metadata": {},
   "outputs": [],
   "source": [
    "#plots the predicted vs actual values of the regressor, after denormalizing them (these values)\n",
    "def plot_test_ds(estimator, testX, testY, denormalizer, points=200, color='blue'):\n",
    "    points = min(points, len(testX))\n",
    "    estimator_output = estimator.predict(testX)[:points]\n",
    "    actual_output = testY[:points]\n",
    "    denormalize_mapper = np.vectorize(lambda val: denormalizer(val))\n",
    "    estimator_output = denormalize_mapper(estimator_output)\n",
    "    actual_output = denormalize_mapper(actual_output)\n",
    "    plt.figure(figsize=(12,12))\n",
    "    plt.scatter(estimator_output, actual_output, color=color)\n",
    "    plt.xlabel('Predicted Values')\n",
    "    plt.ylabel('Actual Values')\n",
    "    plt.title('Regressor')\n",
    "    plt.grid(True)"
   ]
  },
  {
   "cell_type": "code",
   "execution_count": 11,
   "metadata": {},
   "outputs": [],
   "source": [
    "#returns the column with the highest correlation to the target_column\n",
    "def get_most_correlated(df, target_column):\n",
    "    corr_mat = np.array(df.corr().abs())\n",
    "    target_column_idx = df.columns.get_loc(target_column)\n",
    "    \n",
    "    max_corr_value = 0\n",
    "    most_correlated_idx = None\n",
    "    for column in df.columns:\n",
    "        column_idx = df.columns.get_loc(column)\n",
    "        column_corr_val = corr_mat[target_column_idx][column_idx]\n",
    "        if column_corr_val > max_corr_value and not column_idx == target_column_idx:\n",
    "            max_corr_value = column_corr_val\n",
    "            most_correlated_idx = column_idx\n",
    "            \n",
    "    return df.columns[most_correlated_idx]"
   ]
  },
  {
   "cell_type": "code",
   "execution_count": 12,
   "metadata": {},
   "outputs": [],
   "source": [
    "#http://scikit-learn.org/stable/auto_examples/model_selection/plot_confusion_matrix.html\n",
    "def plot_confusion_matrix(cm, classes,\n",
    "                          normalize=False,\n",
    "                          title='Confusion matrix',\n",
    "                          cmap=plt.cm.Blues):\n",
    "    \"\"\"\n",
    "    This function prints and plots the confusion matrix.\n",
    "    Normalization can be applied by setting `normalize=True`.\n",
    "    \"\"\"\n",
    "    if normalize:\n",
    "        cm = cm.astype('float') / cm.sum(axis=1)[:, np.newaxis]\n",
    "        print(\"Normalized confusion matrix\")\n",
    "    else:\n",
    "        print('Confusion matrix, without normalization')\n",
    "\n",
    "    print(cm)\n",
    "\n",
    "    plt.imshow(cm, interpolation='nearest', cmap=cmap)\n",
    "    plt.title(title)\n",
    "    plt.colorbar()\n",
    "    tick_marks = np.arange(len(classes))\n",
    "    plt.xticks(tick_marks, classes, rotation=45)\n",
    "    plt.yticks(tick_marks, classes)\n",
    "\n",
    "    fmt = '.2f' if normalize else 'd'\n",
    "    thresh = cm.max() / 2.\n",
    "    for i, j in itertools.product(range(cm.shape[0]), range(cm.shape[1])):\n",
    "        plt.text(j, i, format(cm[i, j], fmt),\n",
    "                 horizontalalignment=\"center\",\n",
    "                 color=\"white\" if cm[i, j] > thresh else \"black\")\n",
    "\n",
    "    plt.ylabel('True label')\n",
    "    plt.xlabel('Predicted label')\n",
    "    plt.tight_layout()\n",
    "    "
   ]
  },
  {
   "cell_type": "markdown",
   "metadata": {},
   "source": [
    "# Task 1"
   ]
  },
  {
   "cell_type": "code",
   "execution_count": 13,
   "metadata": {},
   "outputs": [
    {
     "name": "stderr",
     "output_type": "stream",
     "text": [
      "/home/carol/anaconda3/lib/python3.6/site-packages/sklearn/model_selection/_split.py:2026: FutureWarning: From version 0.21, test_size will always complement train_size unless both are specified.\n",
      "  FutureWarning)\n"
     ]
    }
   ],
   "source": [
    "# import the data set\n",
    "full_data_set = pd.read_csv('./sp500.csv')\n",
    "\n",
    "# Filter out columns with lower than 0.95 correlation\n",
    "filtered_data_set = correlation_filter(full_data_set, \"SP500\", lambda correlation_val: correlation_val >= 0.95)\n",
    "\n",
    "# Record the mean and std dev of the SP500 for denormalization\n",
    "output_mean = filtered_data_set[\"SP500\"].mean()\n",
    "output_std_dev = filtered_data_set[\"SP500\"].std()\n",
    "denormalizer = gen_denormalizer(output_mean, output_std_dev)\n",
    "\n",
    "# Normalize the data set\n",
    "filtered_data_set = normalize_ds(filtered_data_set)\n",
    "\n",
    "# Do a train test split with ratio 8:2 (validation set is extracted from train set by sklearn libraries)\n",
    "#default validation ratio is 0.1 of the training set, and is only split if early_stopping=True\n",
    "#ratio of train_validate_test = 0.72: 0.08: 0.20\n",
    "train_ds, test_ds = train_test_val_split(filtered_data_set, train_size=0.8)\n",
    "\n",
    "# Split input and output data\n",
    "trainX, trainY = np.array(train_ds.drop(columns=[\"SP500\"])), np.array(train_ds[\"SP500\"])\n",
    "testX, testY = np.array(test_ds.drop(columns=[\"SP500\"])), np.array(test_ds[\"SP500\"])"
   ]
  },
  {
   "cell_type": "markdown",
   "metadata": {},
   "source": [
    "### 1.3- Square Error (default for MLPR) is used as a scoring metric to evaluate the model with both SGD and ADAM optimizers \n",
    "(http://scikit-learn.org/stable/modules/neural_networks_supervised.html)"
   ]
  },
  {
   "cell_type": "code",
   "execution_count": 14,
   "metadata": {},
   "outputs": [
    {
     "data": {
      "text/plain": [
       "MLPRegressor(activation='logistic', alpha=0.0001, batch_size='auto',\n",
       "       beta_1=0.9, beta_2=0.999, early_stopping=True, epsilon=1e-08,\n",
       "       hidden_layer_sizes=(100,), learning_rate='constant',\n",
       "       learning_rate_init=0.01, max_iter=200, momentum=0.9,\n",
       "       nesterovs_momentum=True, power_t=0.5, random_state=None,\n",
       "       shuffle=True, solver='sgd', tol=0.0001, validation_fraction=0.1,\n",
       "       verbose=False, warm_start=False)"
      ]
     },
     "execution_count": 14,
     "metadata": {},
     "output_type": "execute_result"
    }
   ],
   "source": [
    "model_sgd = gen_model_regressor(iterations=200, optimizer='sgd', early_stopping=True)\n",
    "model_sgd.fit(trainX, trainY)"
   ]
  },
  {
   "cell_type": "code",
   "execution_count": 15,
   "metadata": {},
   "outputs": [
    {
     "data": {
      "text/plain": [
       "MLPRegressor(activation='logistic', alpha=0.0001, batch_size='auto',\n",
       "       beta_1=0.9, beta_2=0.999, early_stopping=True, epsilon=1e-08,\n",
       "       hidden_layer_sizes=(100,), learning_rate='constant',\n",
       "       learning_rate_init=0.01, max_iter=200, momentum=0.9,\n",
       "       nesterovs_momentum=True, power_t=0.5, random_state=None,\n",
       "       shuffle=True, solver='adam', tol=0.0001, validation_fraction=0.1,\n",
       "       verbose=False, warm_start=False)"
      ]
     },
     "execution_count": 15,
     "metadata": {},
     "output_type": "execute_result"
    }
   ],
   "source": [
    "model_adam = gen_model_regressor(iterations=200, optimizer='adam', early_stopping=True)\n",
    "model_adam.fit(trainX, trainY)"
   ]
  },
  {
   "cell_type": "code",
   "execution_count": 16,
   "metadata": {},
   "outputs": [
    {
     "name": "stdout",
     "output_type": "stream",
     "text": [
      "sgd_scores: [-0.02567158 -0.01506816 -0.01474392 -0.01142884 -0.01756382 -0.02539356\n",
      " -0.01985987 -0.01003979 -0.01136791 -0.01499866]\n",
      "adam_scores: [-0.00504157 -0.01013359 -0.05505972 -0.00358576 -0.0053904  -0.00537617\n",
      " -0.00734853 -0.00890768 -0.02720947 -0.0040312 ]\n"
     ]
    }
   ],
   "source": [
    "cv=10\n",
    "model_sgd_scores = cross_val_score(model_sgd, trainX, trainY, scoring='neg_mean_squared_error',cv=cv)\n",
    "print(\"sgd_scores: %s\" %model_sgd_scores)\n",
    "model_adam_scores = cross_val_score(model_adam, trainX, trainY, scoring='neg_mean_squared_error', cv=cv)\n",
    "print(\"adam_scores: %s\" %model_adam_scores)"
   ]
  },
  {
   "cell_type": "markdown",
   "metadata": {},
   "source": [
    "### 1.4- ADAM performs slightly better than SGD due to combining AdaGrad for avoiding sparse gradients and RMSProp to avoid noise in data\n",
    "\n",
    "### 1.5- Regularization techniques used were L2, and cross-validation. Early stopping was also used to avoid overfitting.\n",
    "\n",
    "### 1.6- ADAM performs slightly better due to the fact that it handles noise better than SGD (there is not so much noise, and therefore, not so much of a difference.)"
   ]
  },
  {
   "cell_type": "code",
   "execution_count": 17,
   "metadata": {},
   "outputs": [],
   "source": [
    "model = gen_model_regressor()"
   ]
  },
  {
   "cell_type": "code",
   "execution_count": 18,
   "metadata": {},
   "outputs": [
    {
     "data": {
      "text/plain": [
       "GridSearchCV(cv=None, error_score='raise',\n",
       "       estimator=MLPRegressor(activation='logistic', alpha=0.0001, batch_size='auto',\n",
       "       beta_1=0.9, beta_2=0.999, early_stopping=False, epsilon=1e-08,\n",
       "       hidden_layer_sizes=(100,), learning_rate='constant',\n",
       "       learning_rate_init=0.01, max_iter=200, momentum=0.9,\n",
       "       nesterovs_momentum=True, power_t=0.5, random_state=None,\n",
       "       shuffle=True, solver='sgd', tol=0.0001, validation_fraction=0.1,\n",
       "       verbose=False, warm_start=False),\n",
       "       fit_params=None, iid=True, n_jobs=1,\n",
       "       param_grid={'learning_rate_init': [0.1, 0.01, 0.001], 'solver': ['adam', 'sgd'], 'early_stopping': [False, True], 'activation': ['logistic'], 'alpha': [0.001, 0.0001, 1e-05], 'max_iter': [1000]},\n",
       "       pre_dispatch='2*n_jobs', refit=True, return_train_score='warn',\n",
       "       scoring=None, verbose=0)"
      ]
     },
     "execution_count": 18,
     "metadata": {},
     "output_type": "execute_result"
    }
   ],
   "source": [
    "# 1.4 Attempting different values for the learning rate for each optimizer (adam-sgd)\n",
    "model_best_params = GridSearchCV(model, {\n",
    "    \"learning_rate_init\":[0.1, 0.01, 0.001],\n",
    "    \"solver\":[\"adam\", \"sgd\"],\n",
    "    \"early_stopping\":[False, True],\n",
    "    \"activation\":['logistic'],\n",
    "    \"alpha\":[0.001, 0.0001, 0.00001],\n",
    "    \"max_iter\":[1000]\n",
    "})\n",
    "model_best_params.fit(trainX, trainY)"
   ]
  },
  {
   "cell_type": "code",
   "execution_count": 19,
   "metadata": {},
   "outputs": [
    {
     "data": {
      "text/plain": [
       "{'activation': 'logistic',\n",
       " 'alpha': 1e-05,\n",
       " 'early_stopping': False,\n",
       " 'learning_rate_init': 0.01,\n",
       " 'max_iter': 1000,\n",
       " 'solver': 'adam'}"
      ]
     },
     "execution_count": 19,
     "metadata": {},
     "output_type": "execute_result"
    }
   ],
   "source": [
    "model_best_params.best_params_"
   ]
  },
  {
   "cell_type": "code",
   "execution_count": 23,
   "metadata": {},
   "outputs": [
    {
     "data": {
      "text/plain": [
       "MLPRegressor(activation='logistic', alpha=0.0001, batch_size='auto',\n",
       "       beta_1=0.9, beta_2=0.999, early_stopping=False, epsilon=1e-08,\n",
       "       hidden_layer_sizes=(100,), learning_rate='constant',\n",
       "       learning_rate_init=0.01, max_iter=1000, momentum=0.9,\n",
       "       nesterovs_momentum=True, power_t=0.5, random_state=None,\n",
       "       shuffle=True, solver='adam', tol=0.0001, validation_fraction=0.1,\n",
       "       verbose=False, warm_start=False)"
      ]
     },
     "execution_count": 23,
     "metadata": {},
     "output_type": "execute_result"
    }
   ],
   "source": [
    "#1.7 Best model & Plotting\n",
    "model = gen_model_regressor(activation_function=\"logistic\", alpha=0.001, early_stopping=False, \n",
    "                            learning_rate_val=0.01, optimizer='adam', iterations=1000)\n",
    "model.fit(trainX, trainY)"
   ]
  },
  {
   "cell_type": "code",
   "execution_count": 21,
   "metadata": {},
   "outputs": [
    {
     "name": "stdout",
     "output_type": "stream",
     "text": [
      "[-0.00379027 -0.00361406 -0.00301374 -0.00347028 -0.00253708 -0.00353141\n",
      " -0.00589624 -0.00384281 -0.00393953 -0.0022267 ]\n"
     ]
    }
   ],
   "source": [
    "model_scores = cross_val_score(model, trainX, trainY, scoring='neg_mean_squared_error',cv=10)\n",
    "print(model_scores)"
   ]
  },
  {
   "cell_type": "code",
   "execution_count": 24,
   "metadata": {},
   "outputs": [
    {
     "data": {
      "text/plain": [
       "[<matplotlib.lines.Line2D at 0x7f8adc33e3c8>]"
      ]
     },
     "execution_count": 24,
     "metadata": {},
     "output_type": "execute_result"
    },
    {
     "data": {
      "image/png": "[encoded data removed]",
      "text/plain": [
       "<Figure size 864x864 with 1 Axes>"
      ]
     },
     "metadata": {},
     "output_type": "display_data"
    }
   ],
   "source": [
    "plot_test_ds(model, testX, testY, denormalizer, points=400)\n",
    "plot_linear_func(1, 0, 1700,2900, 'r')"
   ]
  },
  {
   "cell_type": "markdown",
   "metadata": {},
   "source": [
    "### 1.8- The model performed worst in the range: 2600 < SP500 < 2800. This could be due to the way the data is scattered at this point as there could be little change in the inputs at these values compared to highly varying output. This could also be due to the fact that there are less input points in higher values, thus, worse training."
   ]
  },
  {
   "cell_type": "markdown",
   "metadata": {},
   "source": [
    "# Task 2"
   ]
  },
  {
   "cell_type": "markdown",
   "metadata": {},
   "source": [
    "### 2.1 Scoring Metric (default as before; Sqaure Error)\n",
    "#### Given the nature of the dataset (no outliers), this is adequate"
   ]
  },
  {
   "cell_type": "code",
   "execution_count": 25,
   "metadata": {},
   "outputs": [
    {
     "name": "stderr",
     "output_type": "stream",
     "text": [
      "/home/carol/anaconda3/lib/python3.6/site-packages/sklearn/model_selection/_split.py:2026: FutureWarning: From version 0.21, test_size will always complement train_size unless both are specified.\n",
      "  FutureWarning)\n"
     ]
    }
   ],
   "source": [
    "#gets the column with the highest correlation (APH)\n",
    "# print(most_correlated_column_tag)\n",
    "most_correlated_column_tag = get_most_correlated(filtered_data_set, \"SP500\")\n",
    "most_correlated_column = filtered_data_set[[most_correlated_column_tag]]\n",
    "mcc = most_correlated_column\n",
    "\n",
    "# Remove last 5 entries due to incomplete data\n",
    "most_correlated_ds = pd.concat([mcc, mcc.shift(-1), mcc.shift(-2), mcc.shift(-3), mcc.shift(-4), mcc.shift(-5)], \n",
    "                               axis=1)[:-5]\n",
    "mcc_train_ds, mcc_test_ds = train_test_split(most_correlated_ds, train_size=0.8)\n",
    "\n",
    "mcc_trainX, mcc_trainY = np.array(mcc_train_ds.iloc[:,:-1]), np.array(mcc_train_ds.iloc[:,-1:]).ravel()\n",
    "mcc_testX, mcc_testY = np.array(mcc_test_ds.iloc[:,:-1]), np.array(mcc_test_ds.iloc[:,-1:]).ravel()"
   ]
  },
  {
   "cell_type": "code",
   "execution_count": 26,
   "metadata": {},
   "outputs": [
    {
     "data": {
      "text/plain": [
       "GridSearchCV(cv=None, error_score='raise',\n",
       "       estimator=MLPRegressor(activation='logistic', alpha=0.0001, batch_size='auto',\n",
       "       beta_1=0.9, beta_2=0.999, early_stopping=False, epsilon=1e-08,\n",
       "       hidden_layer_sizes=(100,), learning_rate='constant',\n",
       "       learning_rate_init=0.01, max_iter=200, momentum=0.9,\n",
       "       nesterovs_momentum=True, power_t=0.5, random_state=None,\n",
       "       shuffle=True, solver='sgd', tol=0.0001, validation_fraction=0.1,\n",
       "       verbose=False, warm_start=False),\n",
       "       fit_params=None, iid=True, n_jobs=1,\n",
       "       param_grid={'hidden_layer_sizes': [(100,), (5, 3, 2), (4, 3, 2)], 'learning_rate_init': [0.1, 0.01, 0.001], 'solver': ['adam', 'sgd'], 'early_stopping': [False, True], 'activation': ['logistic'], 'alpha': [0.001, 0.0001, 1e-05], 'max_iter': [1000]},\n",
       "       pre_dispatch='2*n_jobs', refit=True, return_train_score='warn',\n",
       "       scoring=None, verbose=0)"
      ]
     },
     "execution_count": 26,
     "metadata": {},
     "output_type": "execute_result"
    }
   ],
   "source": [
    "mcc_model_best_params = GridSearchCV(gen_model_regressor(), {\n",
    "    \"hidden_layer_sizes\":[(100,), (5,3,2), (4,3,2)],\n",
    "    \"learning_rate_init\":[0.1, 0.01, 0.001],\n",
    "    \"solver\":[\"adam\", \"sgd\"],\n",
    "    \"early_stopping\":[False, True],\n",
    "    \"activation\":['logistic'],\n",
    "    \"alpha\":[0.001, 0.0001, 0.00001],\n",
    "    \"max_iter\":[1000]\n",
    "})\n",
    "mcc_model_best_params.fit(mcc_trainX, mcc_trainY)"
   ]
  },
  {
   "cell_type": "code",
   "execution_count": 27,
   "metadata": {},
   "outputs": [
    {
     "data": {
      "text/plain": [
       "{'activation': 'logistic',\n",
       " 'alpha': 0.0001,\n",
       " 'early_stopping': False,\n",
       " 'hidden_layer_sizes': (100,),\n",
       " 'learning_rate_init': 0.001,\n",
       " 'max_iter': 1000,\n",
       " 'solver': 'adam'}"
      ]
     },
     "execution_count": 27,
     "metadata": {},
     "output_type": "execute_result"
    }
   ],
   "source": [
    "mcc_model_best_params.best_params_"
   ]
  },
  {
   "cell_type": "code",
   "execution_count": 28,
   "metadata": {},
   "outputs": [],
   "source": [
    "mcc_model = gen_model_regressor(activation_function=\"logistic\", alpha=0.0001, early_stopping=False, \n",
    "                                learning_rate_val=0.001, iterations=1000, optimizer=\"adam\")"
   ]
  },
  {
   "cell_type": "code",
   "execution_count": 29,
   "metadata": {},
   "outputs": [
    {
     "data": {
      "text/plain": [
       "MLPRegressor(activation='logistic', alpha=0.0001, batch_size='auto',\n",
       "       beta_1=0.9, beta_2=0.999, early_stopping=False, epsilon=1e-08,\n",
       "       hidden_layer_sizes=(100,), learning_rate='constant',\n",
       "       learning_rate_init=0.001, max_iter=1000, momentum=0.9,\n",
       "       nesterovs_momentum=True, power_t=0.5, random_state=None,\n",
       "       shuffle=True, solver='adam', tol=0.0001, validation_fraction=0.1,\n",
       "       verbose=False, warm_start=False)"
      ]
     },
     "execution_count": 29,
     "metadata": {},
     "output_type": "execute_result"
    }
   ],
   "source": [
    "mcc_model.fit(mcc_trainX, mcc_trainY)"
   ]
  },
  {
   "cell_type": "code",
   "execution_count": 30,
   "metadata": {
    "scrolled": true
   },
   "outputs": [
    {
     "data": {
      "text/plain": [
       "[<matplotlib.lines.Line2D at 0x7f8adc312160>]"
      ]
     },
     "execution_count": 30,
     "metadata": {},
     "output_type": "execute_result"
    },
    {
     "data": {
      "image/png": "[encoded data removed]",
      "text/plain": [
       "<Figure size 864x864 with 1 Axes>"
      ]
     },
     "metadata": {},
     "output_type": "display_data"
    }
   ],
   "source": [
    "#2.3 We both plotted the entire test set, and printed out the first three points\n",
    "#the red line is for better visual comparison\n",
    "plot_test_ds(mcc_model, mcc_testX, mcc_testY, denormalizer, points=200)\n",
    "plot_linear_func(1, 0, 1700,2900, 'r')\n"
   ]
  },
  {
   "cell_type": "code",
   "execution_count": 31,
   "metadata": {},
   "outputs": [
    {
     "name": "stdout",
     "output_type": "stream",
     "text": [
      "predicted: [2109.5778621628374, 2100.5042546472096, 2415.884037270624]\n",
      "actual   : [2123.91307323363, 2107.7084847407978, 2410.798117153996]\n"
     ]
    }
   ],
   "source": [
    "predicted = [denormalizer(x) for x in mcc_model.predict(mcc_testX[0:3])]\n",
    "actual = [denormalizer(x) for x in mcc_testY[0:3]]\n",
    "print(\"predicted: %s\" %predicted)\n",
    "print(\"actual   : %s\" %actual)"
   ]
  },
  {
   "cell_type": "markdown",
   "metadata": {},
   "source": [
    "### 2.3 This Regressor produces almost-equal values, which is visually obvious in the plot, and in the printed comparison above."
   ]
  },
  {
   "cell_type": "markdown",
   "metadata": {},
   "source": [
    "# Task 3"
   ]
  },
  {
   "cell_type": "code",
   "execution_count": 32,
   "metadata": {},
   "outputs": [
    {
     "data": {
      "text/plain": [
       "array([[<matplotlib.axes._subplots.AxesSubplot object at 0x7f8adc23d128>]],\n",
       "      dtype=object)"
      ]
     },
     "execution_count": 32,
     "metadata": {},
     "output_type": "execute_result"
    },
    {
     "data": {
      "image/png": "[encoded data removed]",
      "text/plain": [
       "<Figure size 432x288 with 1 Axes>"
      ]
     },
     "metadata": {},
     "output_type": "display_data"
    }
   ],
   "source": [
    "reviews_ds = pd.read_json(\"./Digital_Music_5.json\", lines=True)\n",
    "reviews_ds.hist('overall', bins=100) #to inspect the unbalanced DS: 3.1"
   ]
  },
  {
   "cell_type": "code",
   "execution_count": 33,
   "metadata": {},
   "outputs": [
    {
     "name": "stderr",
     "output_type": "stream",
     "text": [
      "/home/carol/anaconda3/lib/python3.6/site-packages/sklearn/model_selection/_split.py:2026: FutureWarning: From version 0.21, test_size will always complement train_size unless both are specified.\n",
      "  FutureWarning)\n"
     ]
    }
   ],
   "source": [
    "# 3.2: sort the rows(axis=0) by their 'overall values'\n",
    "# groupby creates 5 groups for each of the 'overall' values/categories, and head() is mapped to each group,\n",
    "# returning the first 2500 values of each, then sample shuffles the data \n",
    "balanced_review_ds = reviews_ds.sort_values(by='overall',axis=0).groupby(['overall']).head(2500).sample(frac=1)\n",
    "\n",
    "# 3.4\n",
    "reviews_train, reviews_test = train_test_val_split(balanced_review_ds, train_size=0.8)\n",
    "\n",
    "# We assumed \"reviewText\" is the desired input. Alternatively, \"summary\" could be taken as the textual input\n",
    "# to be vectroized\n",
    "reviews_trainX = reviews_train['reviewText']\n",
    "reviews_trainY = reviews_train['overall']\n",
    "\n",
    "reviews_testX = reviews_test['reviewText']\n",
    "reviews_testY = reviews_test['overall']\n",
    "\n",
    "# stop-word param is a minor optimization for the vectorizer, that excludes \"english\" stop words from features\n",
    "# analyzer=\"word\" does not vectorize characters to be features\n",
    "# Vectorizer extracts words as features, adopting the passed params\n",
    "tfidf_vectorizer = TfidfVectorizer(max_features=40000, stop_words=\"english\", analyzer=\"word\")\n",
    "\n",
    "reviews_trainX = tfidf_vectorizer.fit_transform(reviews_trainX)\n",
    "reviews_testX = tfidf_vectorizer.transform(reviews_testX)\n"
   ]
  },
  {
   "cell_type": "code",
   "execution_count": 34,
   "metadata": {},
   "outputs": [],
   "source": [
    "classifier_model = gen_model_classifier() "
   ]
  },
  {
   "cell_type": "code",
   "execution_count": 35,
   "metadata": {},
   "outputs": [
    {
     "name": "stdout",
     "output_type": "stream",
     "text": [
      "[0.19970015 0.20012001 0.19867947]\n"
     ]
    }
   ],
   "source": [
    "# takes the model and training set (input & output), from which it splits a validation set, \n",
    "# and prints the validation scores.\n",
    "classifier_model_scores = cross_val_score(classifier_model, reviews_trainX, reviews_trainY, scoring='accuracy',cv=3)\n",
    "print(classifier_model_scores)"
   ]
  },
  {
   "cell_type": "code",
   "execution_count": null,
   "metadata": {},
   "outputs": [],
   "source": [
    "# #Uncomment this cell and its successor, upon desire (takes an average of 6 hours to run)\n",
    "# classifier_model_best_params = GridSearchCV(classifier_model, {\n",
    "#     \"learning_rate_init\":[0.1, 0.01, 0.001],\n",
    "#     \"solver\":[\"adam\"],\n",
    "#     \"hidden_layer_sizes\": [(512), (1024), (128, 128), (128,128,128)],\n",
    "#     \"early_stopping\":[True],\n",
    "#     \"activation\":['logistic', 'relu'],\n",
    "#     \"alpha\":[0.0001, 0.00001],\n",
    "#     \"max_iter\":[500]\n",
    "# })\n",
    "# classifier_model_best_params.fit(reviews_trainX, reviews_trainY)"
   ]
  },
  {
   "cell_type": "code",
   "execution_count": null,
   "metadata": {},
   "outputs": [],
   "source": [
    "# classifier_model_best_params.best_params_"
   ]
  },
  {
   "cell_type": "code",
   "execution_count": 36,
   "metadata": {},
   "outputs": [
    {
     "name": "stdout",
     "output_type": "stream",
     "text": [
      "Iteration 1, loss = 1.61784511\n",
      "Validation score: 0.193000\n",
      "Iteration 2, loss = 1.59926408\n",
      "Validation score: 0.193000\n",
      "Iteration 3, loss = 1.57025139\n",
      "Validation score: 0.271000\n",
      "Iteration 4, loss = 1.52538810\n",
      "Validation score: 0.479000\n",
      "Iteration 5, loss = 1.46289853\n",
      "Validation score: 0.508000\n",
      "Iteration 6, loss = 1.38275198\n",
      "Validation score: 0.527000\n",
      "Iteration 7, loss = 1.28950507\n",
      "Validation score: 0.534000\n",
      "Iteration 8, loss = 1.18687485\n",
      "Validation score: 0.545000\n",
      "Iteration 9, loss = 1.08034236\n",
      "Validation score: 0.557000\n",
      "Iteration 10, loss = 0.97543623\n",
      "Validation score: 0.569000\n",
      "Iteration 11, loss = 0.87354647\n",
      "Validation score: 0.574000\n",
      "Iteration 12, loss = 0.77891517\n",
      "Validation score: 0.589000\n",
      "Iteration 13, loss = 0.69323764\n",
      "Validation score: 0.596000\n",
      "Iteration 14, loss = 0.61459716\n",
      "Validation score: 0.603000\n",
      "Iteration 15, loss = 0.54422674\n",
      "Validation score: 0.594000\n",
      "Iteration 16, loss = 0.48099132\n",
      "Validation score: 0.599000\n",
      "Iteration 17, loss = 0.42479763\n",
      "Validation score: 0.600000\n",
      "Validation score did not improve more than tol=0.000100 for two consecutive epochs. Stopping.\n"
     ]
    },
    {
     "data": {
      "text/plain": [
       "MLPClassifier(activation='relu', alpha=0.0001, batch_size='auto', beta_1=0.9,\n",
       "       beta_2=0.999, early_stopping=True, epsilon=1e-08,\n",
       "       hidden_layer_sizes=(128, 128), learning_rate='adaptive',\n",
       "       learning_rate_init=0.0001, max_iter=1000, momentum=0.9,\n",
       "       nesterovs_momentum=True, power_t=0.5, random_state=None,\n",
       "       shuffle=True, solver='adam', tol=0.0001, validation_fraction=0.1,\n",
       "       verbose=True, warm_start=False)"
      ]
     },
     "execution_count": 36,
     "metadata": {},
     "output_type": "execute_result"
    }
   ],
   "source": [
    "classifier_model = gen_model_classifier(shape=(128, 128), \n",
    "                                 activation_function=\"relu\",\n",
    "                                 optimizer=\"adam\",\n",
    "                                 alpha=0.01,\n",
    "                                 iterations=1000,\n",
    "                                 early_stopping=True,\n",
    "                                 learning_rate_val=0.0001,\n",
    "                                 learning_rate_type=\"adaptive\",\n",
    "                                 verbose=True,\n",
    "                                )\n",
    "classifier_model.fit(reviews_trainX, reviews_trainY)"
   ]
  },
  {
   "cell_type": "code",
   "execution_count": 37,
   "metadata": {},
   "outputs": [
    {
     "data": {
      "text/plain": [
       "0.5872"
      ]
     },
     "execution_count": 37,
     "metadata": {},
     "output_type": "execute_result"
    }
   ],
   "source": [
    "classifier_model.score(reviews_testX, reviews_testY)"
   ]
  },
  {
   "cell_type": "code",
   "execution_count": 38,
   "metadata": {},
   "outputs": [
    {
     "name": "stdout",
     "output_type": "stream",
     "text": [
      "Normalized confusion matrix\n",
      "[[0.69444444 0.19444444 0.03571429 0.04166667 0.03373016]\n",
      " [0.22908367 0.43027888 0.16733068 0.09760956 0.07569721]\n",
      " [0.04280156 0.18287938 0.49416342 0.19844358 0.08171206]\n",
      " [0.05394191 0.07261411 0.22821577 0.54771784 0.09751037]\n",
      " [0.03413655 0.03815261 0.11646586 0.04016064 0.77108434]]\n"
     ]
    },
    {
     "data": {
      "image/png": "[encoded data removed]",
      "text/plain": [
       "<Figure size 432x288 with 2 Axes>"
      ]
     },
     "metadata": {},
     "output_type": "display_data"
    }
   ],
   "source": [
    "# Compute confusion matrix\n",
    "reviews_predY = classifier_model.predict(reviews_testX)\n",
    "cnf_matrix = confusion_matrix(reviews_testY, reviews_predY)\n",
    "\n",
    "# Plot normalized confusion matrix\n",
    "plt.figure()\n",
    "plot_confusion_matrix(cnf_matrix, classes=['1', '2', '3', '4', '5'], normalize=True, \n",
    "                      title='Normalized confusion matrix')\n",
    "plt.show()"
   ]
  },
  {
   "cell_type": "code",
   "execution_count": 39,
   "metadata": {},
   "outputs": [
    {
     "name": "stdout",
     "output_type": "stream",
     "text": [
      "output activation function: softmax\n"
     ]
    }
   ],
   "source": [
    "print(\"output activation function: %s\" %classifier_model.out_activation_)"
   ]
  },
  {
   "cell_type": "markdown",
   "metadata": {},
   "source": [
    "### 3.8  Output Activation Function: softmax. We only have control over the activation function of the hidden layers. SKLearn uses this particular fn. for the output nodes because it's a classifier."
   ]
  },
  {
   "cell_type": "markdown",
   "metadata": {},
   "source": [
    "# BONUS"
   ]
  },
  {
   "cell_type": "code",
   "execution_count": 40,
   "metadata": {},
   "outputs": [
    {
     "name": "stdout",
     "output_type": "stream",
     "text": [
      "predicted: [4 3 2 2 4 5 1 3 1 4]\n",
      "actual   : [4 3 2 2 4 5 2 2 1 4]\n"
     ]
    }
   ],
   "source": [
    "#1\n",
    "predicted = classifier_model.predict(reviews_testX[0:10])\n",
    "actual = np.array(reviews_testY[0:10])\n",
    "print(\"predicted: %s\" %predicted)\n",
    "print(\"actual   : %s\" %actual)"
   ]
  },
  {
   "cell_type": "markdown",
   "metadata": {},
   "source": [
    "### 2 The are too many features, each of which has very low correlation. Following the Curse of Dimensionality definiton, as the number of features grows, the number of data points needed to generalize accurately grows *exponentially*. The size of input examples used for training was 10k, when in the best case (bonus), the size of input features was 25k, when using the reviewText column.  "
   ]
  },
  {
   "cell_type": "markdown",
   "metadata": {},
   "source": [
    "### 3-4: The dataset is modified by adding an additional column which depends on the helpful ratings, and is included in training\n",
    "### Additionally, we use an NLP stemmer in the vectorizer to reduce the number of tokens/features; treat a word and its stemmings as one. \n"
   ]
  },
  {
   "cell_type": "code",
   "execution_count": 41,
   "metadata": {},
   "outputs": [
    {
     "data": {
      "text/html": [
       "<div>\n",
       "<style scoped>\n",
       "    .dataframe tbody tr th:only-of-type {\n",
       "        vertical-align: middle;\n",
       "    }\n",
       "\n",
       "    .dataframe tbody tr th {\n",
       "        vertical-align: top;\n",
       "    }\n",
       "\n",
       "    .dataframe thead th {\n",
       "        text-align: right;\n",
       "    }\n",
       "</style>\n",
       "<table border=\"1\" class=\"dataframe\">\n",
       "  <thead>\n",
       "    <tr style=\"text-align: right;\">\n",
       "      <th></th>\n",
       "      <th>overall</th>\n",
       "      <th>unixReviewTime</th>\n",
       "      <th>positive</th>\n",
       "      <th>negative</th>\n",
       "      <th>ratingScore</th>\n",
       "    </tr>\n",
       "  </thead>\n",
       "  <tbody>\n",
       "    <tr>\n",
       "      <th>overall</th>\n",
       "      <td>1.000000</td>\n",
       "      <td>0.036989</td>\n",
       "      <td>-0.053896</td>\n",
       "      <td>-0.247346</td>\n",
       "      <td>-0.475316</td>\n",
       "    </tr>\n",
       "    <tr>\n",
       "      <th>unixReviewTime</th>\n",
       "      <td>0.036989</td>\n",
       "      <td>1.000000</td>\n",
       "      <td>-0.258202</td>\n",
       "      <td>-0.281726</td>\n",
       "      <td>-0.146229</td>\n",
       "    </tr>\n",
       "    <tr>\n",
       "      <th>positive</th>\n",
       "      <td>-0.053896</td>\n",
       "      <td>-0.258202</td>\n",
       "      <td>1.000000</td>\n",
       "      <td>0.903549</td>\n",
       "      <td>0.403731</td>\n",
       "    </tr>\n",
       "    <tr>\n",
       "      <th>negative</th>\n",
       "      <td>-0.247346</td>\n",
       "      <td>-0.281726</td>\n",
       "      <td>0.903549</td>\n",
       "      <td>1.000000</td>\n",
       "      <td>0.719568</td>\n",
       "    </tr>\n",
       "    <tr>\n",
       "      <th>ratingScore</th>\n",
       "      <td>-0.475316</td>\n",
       "      <td>-0.146229</td>\n",
       "      <td>0.403731</td>\n",
       "      <td>0.719568</td>\n",
       "      <td>1.000000</td>\n",
       "    </tr>\n",
       "  </tbody>\n",
       "</table>\n",
       "</div>"
      ],
      "text/plain": [
       "                 overall  unixReviewTime  positive  negative  ratingScore\n",
       "overall         1.000000        0.036989 -0.053896 -0.247346    -0.475316\n",
       "unixReviewTime  0.036989        1.000000 -0.258202 -0.281726    -0.146229\n",
       "positive       -0.053896       -0.258202  1.000000  0.903549     0.403731\n",
       "negative       -0.247346       -0.281726  0.903549  1.000000     0.719568\n",
       "ratingScore    -0.475316       -0.146229  0.403731  0.719568     1.000000"
      ]
     },
     "execution_count": 41,
     "metadata": {},
     "output_type": "execute_result"
    }
   ],
   "source": [
    "# copies the original dataset (unbalanced)\n",
    "reviews_ds_2 = reviews_ds.copy()\n",
    "\n",
    "# the \"helpful\" column of the dataset, has pairs of two integers; counts of positive/negative votes\n",
    "# that correspond to whether or not this review was helpful to other users\n",
    "\n",
    "# adds a column \"positive\" to it, which takes the log of the first element +1 of each pair in the \"helpful\" column\n",
    "reviews_ds_2[\"positive\"] = reviews_ds_2[\"helpful\"].map(\n",
    "    lambda helpful_ary: math.log(helpful_ary[0] + 1))\n",
    "\n",
    "# adds a column \"negative\" to it, which takes the log of the second element +1 of each pair in the \"helpful\" column\n",
    "reviews_ds_2[\"negative\"] = reviews_ds_2[\"helpful\"].map(\n",
    "    lambda helpful_ary: math.log(helpful_ary[1] + 1))\n",
    "\n",
    "# adds a column RS to it, which gets the absolute difference b/w the counts of helpful/not-helpful votes,\n",
    "# then takes the log of this value +1\n",
    "reviews_ds_2[\"ratingScore\"] = reviews_ds_2[\"helpful\"].map(\n",
    "    lambda helpful_ary: math.log(math.fabs(helpful_ary[0] - helpful_ary[1]) + 1))\n",
    "\n",
    "rs = reviews_ds_2[\"ratingScore\"]\n",
    "reviews_ds_2[\"ratingScore\"] = (rs - rs.mean()) / rs.std()\n",
    "\n",
    "#positive score, normalized\n",
    "ps = reviews_ds_2[\"positive\"]\n",
    "reviews_ds_2[\"positive\"] = (ps - ps.mean()) / ps.std()\n",
    "\n",
    "#negative score, normalized\n",
    "ns = reviews_ds_2[\"negative\"]\n",
    "reviews_ds_2[\"negative\"] = (ns - ns.mean()) / ns.std()\n",
    "\n",
    "reviews_ds_2.corr()"
   ]
  },
  {
   "cell_type": "code",
   "execution_count": 42,
   "metadata": {},
   "outputs": [
    {
     "name": "stderr",
     "output_type": "stream",
     "text": [
      "/home/carol/anaconda3/lib/python3.6/site-packages/sklearn/model_selection/_split.py:2026: FutureWarning: From version 0.21, test_size will always complement train_size unless both are specified.\n",
      "  FutureWarning)\n"
     ]
    }
   ],
   "source": [
    "# balance the new dataset\n",
    "balanced_reviews_ds_2 = reviews_ds_2.sort_values(by='overall',axis=0).groupby(['overall']).head(2500).sample(frac=1)\n",
    "# split into train and test sets\n",
    "reviews_train_2, reviews_test_2 = train_test_val_split(balanced_reviews_ds_2, train_size=0.8)\n",
    "# resets the index after splitting \n",
    "reviews_train_2 = reviews_train_2.reset_index(drop=True)\n",
    "reviews_test_2 = reviews_test_2.reset_index(drop=True)\n",
    "# set the outputs \n",
    "reviews_trainY_2 = reviews_train_2['overall']\n",
    "reviews_testY_2 = reviews_test_2['overall']\n",
    "# the tokenizer param uses one from nltk lib that stems the words (reduces the number of extracted features)\n",
    "# the choice of forcefully decreasing the number of max allowed features was based on trial and error to get\n",
    "# an optimum value\n",
    "tfidf_vectorizer_reviewText = TfidfVectorizer(max_features=25000, stop_words=\"english\", \n",
    "                                     analyzer=\"word\", tokenizer=stemming_tokenizer)\n",
    "tfidf_vectorizer_summary = TfidfVectorizer(max_features=7500, stop_words=\"english\", \n",
    "                                       analyzer=\"word\", tokenizer=stemming_tokenizer)\n",
    "\n",
    "# use \"reviewText\" as input text to the vectorizer, fit_and_transform the training set\n",
    "tfidf_vectorizer_reviewText.fit(reviews_train_2['reviewText'])\n",
    "reviews_train_reviewText = tfidf_vectorizer_reviewText.transform(reviews_train_2['reviewText'])\n",
    "\n",
    "# use \"summary\" as input text to the vectorizer, fit_and_transform the training set\n",
    "tfidf_vectorizer_summary.fit(reviews_train_2['summary'])\n",
    "reviews_train_summary = tfidf_vectorizer_summary.transform(reviews_train_2['summary'])\n",
    "\n",
    "# only transform the test set\n",
    "reviews_test_reviewText = tfidf_vectorizer_reviewText.transform(reviews_test_2['reviewText'])\n",
    "reviews_test_summary = tfidf_vectorizer_summary.transform(reviews_test_2['summary'])\n",
    "\n",
    "# reshapes the values within the vector cells to be an array of integers, instead\n",
    "# of integers\n",
    "train_size=10000\n",
    "positive_ratings_train = reviews_train_2['positive'].values.reshape(train_size,1)\n",
    "negative_ratings_train = reviews_train_2['negative'].values.reshape(train_size,1)\n",
    "ratings_score_train = reviews_train_2['ratingScore'].values.reshape(train_size,1)\n",
    "\n",
    "test_size=2500\n",
    "positive_ratings_test = reviews_test_2['positive'].values.reshape(test_size,1)\n",
    "negative_ratings_test = reviews_test_2['negative'].values.reshape(test_size,1)\n",
    "ratings_score_test = reviews_test_2['ratingScore'].values.reshape(test_size, 1)\n",
    "\n",
    "# concatenates\n",
    "reviews_trainX_2 = hstack([reviews_train_reviewText, reviews_train_summary, ratings_score_train])\n",
    "reviews_testX_2 = hstack([reviews_test_reviewText, reviews_test_summary, ratings_score_test])"
   ]
  },
  {
   "cell_type": "code",
   "execution_count": 45,
   "metadata": {},
   "outputs": [
    {
     "name": "stdout",
     "output_type": "stream",
     "text": [
      "(10000, 5780)\n",
      "(10000, 25000)\n",
      "(10000, 30781)\n",
      "(2500, 30781)\n"
     ]
    }
   ],
   "source": [
    "print(reviews_train_summary.shape)\n",
    "print(reviews_train_reviewText.shape)\n",
    "print(reviews_trainX_2.shape)\n",
    "print(reviews_testX_2.shape)"
   ]
  },
  {
   "cell_type": "code",
   "execution_count": 46,
   "metadata": {
    "scrolled": false
   },
   "outputs": [
    {
     "name": "stdout",
     "output_type": "stream",
     "text": [
      "Iteration 1, loss = 1.52550900\n",
      "Validation score: 0.460000\n",
      "Iteration 2, loss = 1.19332231\n",
      "Validation score: 0.605000\n",
      "Iteration 3, loss = 0.79879562\n",
      "Validation score: 0.641000\n",
      "Iteration 4, loss = 0.47257114\n",
      "Validation score: 0.641000\n",
      "Iteration 5, loss = 0.26591952\n",
      "Validation score: 0.649000\n",
      "Iteration 6, loss = 0.15190458\n",
      "Validation score: 0.638000\n",
      "Iteration 7, loss = 0.08946642\n",
      "Validation score: 0.635000\n",
      "Iteration 8, loss = 0.05586289\n",
      "Validation score: 0.642000\n",
      "Validation score did not improve more than tol=0.000100 for two consecutive epochs. Stopping.\n"
     ]
    },
    {
     "data": {
      "text/plain": [
       "MLPClassifier(activation='relu', alpha=0.0001, batch_size='auto', beta_1=0.9,\n",
       "       beta_2=0.999, early_stopping=True, epsilon=1e-08,\n",
       "       hidden_layer_sizes=(128, 128), learning_rate='adaptive',\n",
       "       learning_rate_init=0.0005, max_iter=500, momentum=0.9,\n",
       "       nesterovs_momentum=True, power_t=0.5, random_state=None,\n",
       "       shuffle=True, solver='adam', tol=0.0001, validation_fraction=0.1,\n",
       "       verbose=True, warm_start=False)"
      ]
     },
     "execution_count": 46,
     "metadata": {},
     "output_type": "execute_result"
    }
   ],
   "source": [
    "classifier_model2 = gen_model_classifier(shape=(128, 128),\n",
    "                                 activation_function=\"relu\",\n",
    "                                 optimizer=\"adam\",\n",
    "                                 alpha=0.01,\n",
    "                                 iterations=500,\n",
    "                                 early_stopping=True,\n",
    "                                 learning_rate_val=0.0005,\n",
    "                                 learning_rate_type=\"adaptive\",\n",
    "                                 verbose=True,\n",
    "                                )\n",
    "\n",
    "classifier_model2.fit(reviews_trainX_2, reviews_trainY_2)"
   ]
  },
  {
   "cell_type": "code",
   "execution_count": 47,
   "metadata": {},
   "outputs": [
    {
     "data": {
      "text/plain": [
       "0.638"
      ]
     },
     "execution_count": 47,
     "metadata": {},
     "output_type": "execute_result"
    }
   ],
   "source": [
    "classifier_model2.score(reviews_testX_2, reviews_testY_2)"
   ]
  },
  {
   "cell_type": "code",
   "execution_count": 48,
   "metadata": {},
   "outputs": [
    {
     "name": "stdout",
     "output_type": "stream",
     "text": [
      "Normalized confusion matrix\n",
      "[[0.696      0.24       0.04       0.01       0.014     ]\n",
      " [0.19361277 0.54690619 0.18562874 0.03792415 0.03592814]\n",
      " [0.05314961 0.18307087 0.5511811  0.1476378  0.06496063]\n",
      " [0.01960784 0.05686275 0.18235294 0.60392157 0.1372549 ]\n",
      " [0.02286902 0.03118503 0.05405405 0.09147609 0.8004158 ]]\n"
     ]
    },
    {
     "data": {
      "image/png": "[encoded data removed]",
      "text/plain": [
       "<Figure size 432x288 with 2 Axes>"
      ]
     },
     "metadata": {},
     "output_type": "display_data"
    }
   ],
   "source": [
    "# Compute confusion matrix\n",
    "reviews_predY_2 = classifier_model2.predict(reviews_testX_2)\n",
    "cnf_matrix_2 = confusion_matrix(reviews_testY_2, reviews_predY_2)\n",
    "\n",
    "# Plot normalized confusion matrix\n",
    "plt.figure()\n",
    "plot_confusion_matrix(cnf_matrix_2, classes=['1', '2', '3', '4', '5'], normalize=True, \n",
    "                      title='Normalized confusion matrix')\n",
    "plt.show()\n"
   ]
  }
 ],
 "metadata": {
  "kernelspec": {
   "display_name": "Python 3",
   "language": "python",
   "name": "python3"
  },
  "language_info": {
   "codemirror_mode": {
    "name": "ipython",
    "version": 3
   },
   "file_extension": ".py",
   "mimetype": "text/x-python",
   "name": "python",
   "nbconvert_exporter": "python",
   "pygments_lexer": "ipython3",
   "version": "3.6.5"
  }
 },
 "nbformat": 4,
 "nbformat_minor": 2
}
